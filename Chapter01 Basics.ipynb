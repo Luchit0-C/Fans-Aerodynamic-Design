{
 "cells": [
  {
   "cell_type": "markdown",
   "metadata": {},
   "source": [
    "# Chapter 1 Basics\n",
    "\n",
    "A fan is selected from the funcdamental performance parameter specified requirements."
   ]
  },
  {
   "cell_type": "markdown",
   "metadata": {},
   "source": [
    "## 1.1 Fan Performance Parameters"
   ]
  },
  {
   "cell_type": "markdown",
   "metadata": {},
   "source": [
    "Most important aerodynamic performance parameters of a fan:\n",
    "- volume flow V or CFM\n",
    "- total pressure rise delta_P_t\n",
    "\n",
    "The air flowing through the fan is considered incompressible. Compressibility requirement is Ma<0.2.\n",
    "\n",
    "Introducing air constant density parameter:\n",
    "- mass flow:        m_dot = rho * V_dot\n",
    "- specific work:    Y_t   = delta_P_t / rho"
   ]
  },
  {
   "cell_type": "markdown",
   "metadata": {},
   "source": [
    "### Total pressure rise:\n",
    "- is the difference in the total pressures between the fan inlet and exit.\n",
    "- in general, comprises a rise in static pressure and dynamic pressure\n",
    "\n",
    "delta_P_tot = P_tot_exit - P_tot_in\n",
    "            = (P_dyn_exit + P_sta_exit) - (P_dyn_in + P_sta_in)\n",
    "            = (P_dyn_exit - P_dyn_in) + (P_sta_exit - P_sta_in)\n",
    "            = static pressure rise    + dynamic pressure rise\n",
    "\n",
    "### Dynamic pressure:\n",
    "\n",
    "P_dyn = 1/2 * rho * v^2\n",
    "The dynamic pressure of the discharge jet constitutes a loss. \n",
    "\n",
    "\n",
    "### Effective (total-to-static pressure rise) pressure rise \n",
    "It does not take into account the exit dynamic pressure\n",
    "\n",
    "delta_P_t_s  = delta_P_tot - P_dyn_exit\n",
    "            = P_sta_exit  - P_tot_in "
   ]
  },
  {
   "cell_type": "markdown",
   "metadata": {},
   "source": [
    "### Shaft power \n",
    "A motor must supply the shaft power to the fan impreller\n",
    "\n",
    "M_s     - fan torque\n",
    "\n",
    "n       - impeller shaft speed\n",
    "\n",
    "Power_s = M_s * 2 * pi * n"
   ]
  },
  {
   "cell_type": "markdown",
   "metadata": {},
   "source": [
    "### Fan efficiencies\n",
    "\n",
    "Total fan efficiency\n",
    "\n",
    "eff_t   = V_dot * delta_P_tot / Power_s\n",
    "\n",
    "Effective (total-to-static) fan efficiency\n",
    "\n",
    "eff_t_s = V_dot * delta_P_t_s / Power_s "
   ]
  },
  {
   "cell_type": "markdown",
   "metadata": {},
   "source": [
    "## 1.2 Selection of the Fan: Demand of the Plant"
   ]
  },
  {
   "cell_type": "markdown",
   "metadata": {},
   "source": [
    "To select a fan for a system, the specific work or total pressure rise required needs to be determined. This required specific pressure rise is determined from the target volume flow rate.\n",
    " \n",
    "\n",
    "delta_P_tot_system = (P_s_2 - P_s_1) + rho/2*(v2^2 - v1^2) + SUM(delta_P__loss, 1, 2)\n",
    "which can be expressed as\n",
    "delta_P_tot_system = delta_P_tot + SUM(delta_P_loss, 1,2)\n",
    "\n",
    "Where 1 and 2 represent the boundaries of a control surface aroud the system/plant\n",
    "Surface boundaries 1 and 2 are selected so that the static pressures P_s_1 and P_s_2 and the flow valocities v1 and v2 are known if possible\n",
    "\n",
    "\n",
    "delta_P_loss: individual component pressure losses (i.e. pipe, elbows, heat exchangers) determined individually\n",
    "delta_P_loss = coeff * rho / 2 * v^2\n",
    "The coeff is the pressure coefficient to each component\n",
    "\n",
    "SUM(delta_P__loss, 1, 2): Overall pressure drop due to individual components in the system\n",
    "This approach neglets the pressure loss interaction when combining the individual components. But it is a good estimate to the overall pressure drop.\n",
    "\n",
    "The demand total pressure required by the system must be covered by the supply of the fan at a target CFM:\n",
    "delta_P_t = delta_P_tot_system"
   ]
  },
  {
   "cell_type": "code",
   "execution_count": 4,
   "metadata": {},
   "outputs": [
    {
     "name": "stdout",
     "output_type": "stream",
     "text": [
      "code modification 1\n"
     ]
    }
   ],
   "source": [
    "print('code modification 1')"
   ]
  }
 ],
 "metadata": {
  "kernelspec": {
   "display_name": "Python 3",
   "language": "python",
   "name": "python3"
  },
  "language_info": {
   "codemirror_mode": {
    "name": "ipython",
    "version": 3
   },
   "file_extension": ".py",
   "mimetype": "text/x-python",
   "name": "python",
   "nbconvert_exporter": "python",
   "pygments_lexer": "ipython3",
   "version": "3.11.9"
  }
 },
 "nbformat": 4,
 "nbformat_minor": 2
}
